{
 "cells": [
  {
   "cell_type": "code",
   "execution_count": 1,
   "metadata": {},
   "outputs": [],
   "source": [
    "import os\n",
    "import shutil\n",
    "import glob\n",
    "from tqdm import tqdm"
   ]
  },
  {
   "cell_type": "markdown",
   "metadata": {},
   "source": [
    "subject ID: xxx\n",
    "\n",
    "image number: xxx\n",
    "\n",
    "gender: 0 - male 1 - famale\n",
    "\n",
    "glasses: 0 - no 1 - yes\n",
    "\n",
    "eye state: 0 - close 1 - open\n",
    "\n",
    "reflections: 0 - none 1 - low 2 - high\n",
    "\n",
    "lighting conditions/image quality: 0 - bad 1 - good\n",
    "\n",
    "sensor type: 01 - RealSense SR300 640x480 02 - IDS Imaging, 1280x1024 03 - Aptina Imagin 752x480\n",
    "\n",
    "example: s001_00123_0_0_0_0_0_01.png"
   ]
  },
  {
   "cell_type": "code",
   "execution_count": 2,
   "metadata": {},
   "outputs": [
    {
     "name": "stderr",
     "output_type": "stream",
     "text": [
      "0it [00:00, ?it/s]\n",
      "0it [00:00, ?it/s]\n",
      "100%|██████████| 3242/3242 [00:29<00:00, 109.94it/s]\n",
      "100%|██████████| 1114/1114 [00:11<00:00, 94.56it/s] \n",
      "100%|██████████| 679/679 [00:06<00:00, 103.70it/s]\n",
      "100%|██████████| 1069/1069 [00:08<00:00, 119.34it/s]\n",
      "100%|██████████| 736/736 [00:06<00:00, 111.48it/s]\n",
      "100%|██████████| 1012/1012 [00:08<00:00, 119.79it/s]\n",
      "100%|██████████| 624/624 [00:04<00:00, 137.20it/s]\n",
      "100%|██████████| 832/832 [00:06<00:00, 121.62it/s]\n",
      "100%|██████████| 387/387 [00:03<00:00, 128.21it/s]\n",
      "100%|██████████| 399/399 [00:03<00:00, 112.59it/s]\n",
      "100%|██████████| 1648/1648 [00:13<00:00, 119.57it/s]\n",
      "100%|██████████| 8728/8728 [01:26<00:00, 100.95it/s]\n",
      "100%|██████████| 3605/3605 [00:34<00:00, 104.93it/s]\n",
      "100%|██████████| 8884/8884 [01:24<00:00, 105.71it/s]\n",
      "100%|██████████| 1132/1132 [00:10<00:00, 110.02it/s]\n",
      "100%|██████████| 1889/1889 [00:18<00:00, 100.34it/s]\n",
      "100%|██████████| 1648/1648 [00:17<00:00, 93.53it/s] \n",
      "100%|██████████| 4410/4410 [00:43<00:00, 100.54it/s]\n",
      "100%|██████████| 6175/6175 [01:01<00:00, 100.94it/s]\n",
      "100%|██████████| 704/704 [00:06<00:00, 104.57it/s]\n",
      "100%|██████████| 987/987 [00:07<00:00, 129.92it/s]\n",
      "100%|██████████| 382/382 [00:03<00:00, 110.85it/s]\n",
      "100%|██████████| 522/522 [00:05<00:00, 92.79it/s] \n",
      "100%|██████████| 752/752 [00:05<00:00, 148.02it/s]\n",
      "100%|██████████| 1502/1502 [00:13<00:00, 108.56it/s]\n",
      "100%|██████████| 1246/1246 [00:12<00:00, 98.70it/s] \n",
      "100%|██████████| 665/665 [00:06<00:00, 110.68it/s]\n",
      "100%|██████████| 736/736 [00:06<00:00, 108.25it/s]\n",
      "100%|██████████| 1393/1393 [00:11<00:00, 125.37it/s]\n",
      "100%|██████████| 1384/1384 [00:12<00:00, 109.31it/s]\n",
      "100%|██████████| 1738/1738 [00:13<00:00, 127.11it/s]\n",
      "100%|██████████| 6162/6162 [00:56<00:00, 108.69it/s]\n",
      "100%|██████████| 681/681 [00:04<00:00, 153.09it/s]\n",
      "100%|██████████| 739/739 [00:04<00:00, 161.60it/s]\n",
      "100%|██████████| 642/642 [00:04<00:00, 132.67it/s]\n",
      "100%|██████████| 6193/6193 [00:50<00:00, 123.28it/s]\n",
      "100%|██████████| 10257/10257 [01:24<00:00, 120.70it/s]\n"
     ]
    }
   ],
   "source": [
    "Raw_DIR= r'E:\\Y R S KUMAR\\DESK TOP DATA\\things i made\\drowsiness\\mrlEyes_2018_01' #Raw dataset directory location\n",
    "for dirpath, dirname, filenames in os.walk(Raw_DIR):\n",
    "  for i in tqdm([f for f in filenames if f.endswith('.png')]): #using f as iterator for filenames if all the files ends with .png\n",
    "    if i.split('_')[4]=='0': #4th index of the filename eg i=s0001_00001_0_0_0_0_0_01\n",
    "      shutil.copy(src=dirpath+'/'+i, dst=r'E:\\Y R S KUMAR\\DESK TOP DATA\\things i made\\drowsiness\\prepared_data\\closed_eyes')\n",
    "    elif i.split('_')[4]=='1':\n",
    "      shutil.copy(src=dirpath+'/'+i,dst=r'E:\\Y R S KUMAR\\DESK TOP DATA\\things i made\\drowsiness\\prepared_data\\open_eyes' )\n",
    "#after this, data was spilt into train and test (90:10)"
   ]
  }
 ],
 "metadata": {
  "interpreter": {
   "hash": "c02ae16da73c61c98e0149f8a27e2722983820234ffad5f0b8c5fc57a34b3ee8"
  },
  "kernelspec": {
   "display_name": "Python 3.9.7 64-bit",
   "language": "python",
   "name": "python3"
  },
  "language_info": {
   "codemirror_mode": {
    "name": "ipython",
    "version": 3
   },
   "file_extension": ".py",
   "mimetype": "text/x-python",
   "name": "python",
   "nbconvert_exporter": "python",
   "pygments_lexer": "ipython3",
   "version": "3.9.7"
  },
  "orig_nbformat": 4
 },
 "nbformat": 4,
 "nbformat_minor": 2
}
